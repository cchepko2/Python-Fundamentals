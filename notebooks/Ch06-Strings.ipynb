{
 "cells": [
  {
   "cell_type": "markdown",
   "metadata": {},
   "source": [
    "# Strings\n",
    "<a href=\"https://colab.research.google.com/github/rambasnet/FDSPython-Notebooks/blob/master/Ch06-Strings.ipynb\" target=\"_parent\"><img src=\"https://colab.research.google.com/assets/colab-badge.svg\" alt=\"Open In Colab\"/></a>\n",
    "\n",
    "- http://openbookproject.net/thinkcs/python/english3e/strings.html\n",
    "\n",
    "## Topics\n",
    "- learn in-depth about string data types\n",
    "- methods provided in string objects/data\n",
    "- operators and various operations\n",
    "- ways to traverse/step through characters in string\n",
    "\n",
    "## Introduction\n",
    "- strings are text data; not numeric!\n",
    "- breifely covered string while covering data and types in an earlier chapter\n",
    "- unlike numbers, strings are compound data type; sequence of characters\n",
    "    - can also work with string as a single thing\n",
    "- string variables are objects with their own attributes and methods\n",
    "- help(str) to see all the methods\n",
    "- commonly used methods: `upper(), lower(), swapcase(), capitalize(), endswith(), isdigit(), find(), center(), count(), split()`, etc.\n",
    "\n",
    "## String methods and operations\n",
    "- string objects/data come with dozens of methods you can invoke"
   ]
  },
  {
   "cell_type": "code",
   "execution_count": null,
   "metadata": {},
   "outputs": [],
   "source": [
    "# let's see built-in documentation on str\n",
    "help(str)"
   ]
  },
  {
   "cell_type": "code",
   "execution_count": 5,
   "metadata": {},
   "outputs": [
    {
     "name": "stdout",
     "output_type": "stream",
     "text": [
      "HELLO THERE BEAUTIFUL WORLD!\n"
     ]
    }
   ],
   "source": [
    "# let's use some of the methods provided for string objects/data\n",
    "ss = \"Hello there beautiful World!\"\n",
    "tt = ss.upper()\n",
    "print(tt)"
   ]
  },
  {
   "cell_type": "code",
   "execution_count": 6,
   "metadata": {},
   "outputs": [
    {
     "name": "stdout",
     "output_type": "stream",
     "text": [
      "Hello there beautiful World!\n"
     ]
    }
   ],
   "source": [
    "print(ss)"
   ]
  },
  {
   "cell_type": "code",
   "execution_count": 7,
   "metadata": {},
   "outputs": [
    {
     "name": "stdout",
     "output_type": "stream",
     "text": [
      "Hello there beautiful world!\n"
     ]
    }
   ],
   "source": [
    "print(tt.capitalize())"
   ]
  },
  {
   "cell_type": "code",
   "execution_count": 8,
   "metadata": {},
   "outputs": [
    {
     "name": "stdout",
     "output_type": "stream",
     "text": [
      "['HELLO', 'THERE', 'BEAUTIFUL', 'WORLD!']\n",
      "HELLO\n"
     ]
    }
   ],
   "source": [
    "alist = tt.split()\n",
    "print(alist)\n",
    "print(alist[0])"
   ]
  },
  {
   "cell_type": "code",
   "execution_count": 10,
   "metadata": {},
   "outputs": [
    {
     "name": "stdout",
     "output_type": "stream",
     "text": [
      "['H', 'LLO TH', 'R', ' B', 'AUTIFUL WORLD!']\n"
     ]
    }
   ],
   "source": [
    "alist = tt.split('E')\n",
    "print(alist)"
   ]
  },
  {
   "cell_type": "code",
   "execution_count": 13,
   "metadata": {},
   "outputs": [
    {
     "name": "stdout",
     "output_type": "stream",
     "text": [
      "[1, 2, 4, 5, 6, 7]\n"
     ]
    }
   ],
   "source": [
    "read_line = \"1,2,4,5,6,7\"\n",
    "numbers = read_line.split(',')\n",
    "numbers = map(int, numbers)\n",
    "print(list(numbers))"
   ]
  },
  {
   "cell_type": "code",
   "execution_count": 17,
   "metadata": {},
   "outputs": [
    {
     "data": {
      "text/plain": [
       "1"
      ]
     },
     "execution_count": 17,
     "metadata": {},
     "output_type": "execute_result"
    }
   ],
   "source": [
    "# examples of some methods\n",
    "ss.count('ll')"
   ]
  },
  {
   "cell_type": "code",
   "execution_count": 18,
   "metadata": {},
   "outputs": [
    {
     "name": "stdout",
     "output_type": "stream",
     "text": [
      "hELLO THERE BEAUTIFUL wORLD!\n"
     ]
    }
   ],
   "source": [
    "print(ss.swapcase())"
   ]
  },
  {
   "cell_type": "markdown",
   "metadata": {},
   "source": [
    "## Operators on string\n",
    "- `*` and `+` operators work on string data type as well\n",
    "- `+` : concatenates\n",
    "- `*` : repeats/multiplies"
   ]
  },
  {
   "cell_type": "code",
   "execution_count": 19,
   "metadata": {},
   "outputs": [],
   "source": [
    "a = \"ABC\""
   ]
  },
  {
   "cell_type": "code",
   "execution_count": 20,
   "metadata": {},
   "outputs": [],
   "source": [
    "a = a + \"D\" + \"E \" + \"F \" + \"1 \" + \"2\" + a"
   ]
  },
  {
   "cell_type": "code",
   "execution_count": 21,
   "metadata": {},
   "outputs": [
    {
     "name": "stdout",
     "output_type": "stream",
     "text": [
      "ABCDE F 1 2ABC\n"
     ]
    }
   ],
   "source": [
    "print(a)"
   ]
  },
  {
   "cell_type": "code",
   "execution_count": null,
   "metadata": {},
   "outputs": [],
   "source": [
    "\"=\"*100"
   ]
  },
  {
   "cell_type": "code",
   "execution_count": null,
   "metadata": {},
   "outputs": [],
   "source": [
    "gene = \"AGT\"*10\n",
    "print(gene)"
   ]
  },
  {
   "cell_type": "code",
   "execution_count": null,
   "metadata": {},
   "outputs": [],
   "source": [
    "print(\"hello world!\"*10)"
   ]
  },
  {
   "cell_type": "markdown",
   "metadata": {},
   "source": [
    "## working with parts of a string\n",
    "- string can be sliced using [ index ] or [ inclStartIndex : ExclEndIndex : step] bracket operator\n",
    "- negative indices are allowed\n",
    "- len( ) built-in function gives the length of a string"
   ]
  },
  {
   "cell_type": "code",
   "execution_count": 1,
   "metadata": {},
   "outputs": [],
   "source": [
    "# examples\n",
    "s = \"Pirates of the Caribbean\""
   ]
  },
  {
   "cell_type": "code",
   "execution_count": 31,
   "metadata": {},
   "outputs": [],
   "source": [
    "s = \"Corin\""
   ]
  },
  {
   "cell_type": "code",
   "execution_count": 32,
   "metadata": {},
   "outputs": [
    {
     "name": "stdout",
     "output_type": "stream",
     "text": [
      "5\n"
     ]
    }
   ],
   "source": [
    "print(len(s))"
   ]
  },
  {
   "cell_type": "code",
   "execution_count": 33,
   "metadata": {},
   "outputs": [
    {
     "data": {
      "text/plain": [
       "'C'"
      ]
     },
     "execution_count": 33,
     "metadata": {},
     "output_type": "execute_result"
    }
   ],
   "source": [
    "# access the first character\n",
    "s[0]"
   ]
  },
  {
   "cell_type": "code",
   "execution_count": 34,
   "metadata": {},
   "outputs": [
    {
     "data": {
      "text/plain": [
       "'o'"
      ]
     },
     "execution_count": 34,
     "metadata": {},
     "output_type": "execute_result"
    }
   ],
   "source": [
    "# access the second character\n",
    "s[1]"
   ]
  },
  {
   "cell_type": "code",
   "execution_count": 35,
   "metadata": {},
   "outputs": [
    {
     "data": {
      "text/plain": [
       "'n'"
      ]
     },
     "execution_count": 35,
     "metadata": {},
     "output_type": "execute_result"
    }
   ],
   "source": [
    "# access the last character\n",
    "s[len(s)-1]"
   ]
  },
  {
   "cell_type": "code",
   "execution_count": 36,
   "metadata": {},
   "outputs": [
    {
     "data": {
      "text/plain": [
       "'n'"
      ]
     },
     "execution_count": 36,
     "metadata": {},
     "output_type": "execute_result"
    }
   ],
   "source": [
    "# access the last chacter using a negative index\n",
    "s[-1]"
   ]
  },
  {
   "cell_type": "code",
   "execution_count": 40,
   "metadata": {},
   "outputs": [
    {
     "data": {
      "text/plain": [
       "'C'"
      ]
     },
     "execution_count": 40,
     "metadata": {},
     "output_type": "execute_result"
    }
   ],
   "source": [
    "s[-5]"
   ]
  },
  {
   "cell_type": "code",
   "execution_count": 47,
   "metadata": {},
   "outputs": [
    {
     "name": "stdout",
     "output_type": "stream",
     "text": [
      "Pirates of the Caribbean\n",
      "Pirates of the Caribbean\n",
      "Pirates of the Caribbean\n",
      "Pirates of the Caribbean\n"
     ]
    }
   ],
   "source": [
    "print(s)\n",
    "print(s[:])\n",
    "print(s[::])\n",
    "# no arguments specified, so defaults to s[0:len(s)-1:1]\n",
    "print(s[0:len(s):1])"
   ]
  },
  {
   "cell_type": "code",
   "execution_count": null,
   "metadata": {},
   "outputs": [],
   "source": [
    "s[1:]"
   ]
  },
  {
   "cell_type": "code",
   "execution_count": 51,
   "metadata": {},
   "outputs": [
    {
     "name": "stdout",
     "output_type": "stream",
     "text": [
      " eai\n"
     ]
    }
   ],
   "source": [
    "# print just the pirates \n",
    "print(s[7:0:-2])"
   ]
  },
  {
   "cell_type": "code",
   "execution_count": null,
   "metadata": {},
   "outputs": [],
   "source": [
    "s[-1]\n",
    "len(s)\n",
    "s[-24]"
   ]
  },
  {
   "cell_type": "code",
   "execution_count": 55,
   "metadata": {},
   "outputs": [
    {
     "name": "stdout",
     "output_type": "stream",
     "text": [
      "Pirates of the Caribbea\n",
      "naebbiraC eht fo setariP\n"
     ]
    }
   ],
   "source": [
    "print(s[:-1])\n",
    "reverse_s = s[::-1]\n",
    "print(reverse_s)"
   ]
  },
  {
   "cell_type": "code",
   "execution_count": 56,
   "metadata": {},
   "outputs": [
    {
     "name": "stdout",
     "output_type": "stream",
     "text": [
      "True\n"
     ]
    }
   ],
   "source": [
    "s = 'racecar'\n",
    "isPalindrome = (s == s[::-1]) \n",
    "print(isPalindrome)"
   ]
  },
  {
   "cell_type": "code",
   "execution_count": 58,
   "metadata": {},
   "outputs": [
    {
     "name": "stdout",
     "output_type": "stream",
     "text": [
      "the starts at 11\n",
      "next the starts at 25\n",
      "the\n"
     ]
    }
   ],
   "source": [
    "# print \"the\" from string s\n",
    "s = 'Pirates of the Caribbean the'\n",
    "theIndex = s.find(\"the\")\n",
    "print('the starts at', theIndex)\n",
    "theNext = theIndex = s.find(\"the\", theIndex+1)\n",
    "print('next the starts at', theNext)\n",
    "print(s[theIndex:theIndex+3])"
   ]
  },
  {
   "cell_type": "code",
   "execution_count": 60,
   "metadata": {},
   "outputs": [
    {
     "name": "stdout",
     "output_type": "stream",
     "text": [
      "\"The\" is not in the string\n"
     ]
    }
   ],
   "source": [
    "if(s.find('The') == -1):\n",
    "    print('\"The\" is not in the string')"
   ]
  },
  {
   "cell_type": "code",
   "execution_count": 61,
   "metadata": {},
   "outputs": [
    {
     "name": "stdout",
     "output_type": "stream",
     "text": [
      "\"The\" is not in the string\n"
     ]
    }
   ],
   "source": [
    "if('The' not in s):\n",
    "    print('\"The\" is not in the string')"
   ]
  },
  {
   "cell_type": "code",
   "execution_count": null,
   "metadata": {},
   "outputs": [],
   "source": [
    "# TODO\n",
    "# print Caribbean from string s - hint use find function\n",
    "print(s.find('Caribbean'))\n",
    "# print if Mel Gibson is in Pirates of the Carribean\n",
    "print(s.find('Mel Gibson'))"
   ]
  },
  {
   "cell_type": "code",
   "execution_count": null,
   "metadata": {},
   "outputs": [],
   "source": [
    "lastSpace = s.rfind('the')\n",
    "print(lastSpace)"
   ]
  },
  {
   "cell_type": "code",
   "execution_count": null,
   "metadata": {},
   "outputs": [],
   "source": [
    "# print the last character\n",
    "print(s[-1])"
   ]
  },
  {
   "cell_type": "code",
   "execution_count": null,
   "metadata": {},
   "outputs": [],
   "source": [
    "# print string in reverse order\n",
    "reversedS = s[-1::-1]"
   ]
  },
  {
   "cell_type": "code",
   "execution_count": null,
   "metadata": {},
   "outputs": [],
   "source": [
    "ss = \"Pirates of the Caribbean.\"\n",
    "print(ss[len(ss)-1])"
   ]
  },
  {
   "cell_type": "code",
   "execution_count": null,
   "metadata": {},
   "outputs": [],
   "source": [
    "# test whether a given string is palindrome\n",
    "a= \"racecar\"\n",
    "print ('palindrome') if a==a[::-1] else print('not palindrome')"
   ]
  },
  {
   "cell_type": "markdown",
   "metadata": {},
   "source": [
    "### string is immutable\n",
    "- string objects/variables can't be modified in place\n",
    "- you must reassign or make a copy to update strings"
   ]
  },
  {
   "cell_type": "code",
   "execution_count": 2,
   "metadata": {},
   "outputs": [],
   "source": [
    "a = 'hello'"
   ]
  },
  {
   "cell_type": "code",
   "execution_count": 3,
   "metadata": {},
   "outputs": [
    {
     "ename": "TypeError",
     "evalue": "'str' object does not support item assignment",
     "output_type": "error",
     "traceback": [
      "\u001b[1;31m---------------------------------------------------------------------------\u001b[0m",
      "\u001b[1;31mTypeError\u001b[0m                                 Traceback (most recent call last)",
      "Cell \u001b[1;32mIn[3], line 1\u001b[0m\n\u001b[1;32m----> 1\u001b[0m a[\u001b[38;5;241m0\u001b[39m] \u001b[38;5;241m=\u001b[39m\u001b[38;5;124m'\u001b[39m\u001b[38;5;124mH\u001b[39m\u001b[38;5;124m'\u001b[39m\n",
      "\u001b[1;31mTypeError\u001b[0m: 'str' object does not support item assignment"
     ]
    }
   ],
   "source": [
    "a = \"Hello\""
   ]
  },
  {
   "cell_type": "code",
   "execution_count": null,
   "metadata": {},
   "outputs": [],
   "source": [
    "a[0] = 'H'"
   ]
  },
  {
   "cell_type": "code",
   "execution_count": null,
   "metadata": {},
   "outputs": [],
   "source": [
    "a = a.capitalize()\n",
    "print(a)"
   ]
  },
  {
   "cell_type": "markdown",
   "metadata": {},
   "source": [
    "## Length of a string\n",
    "\n",
    "- `len(str)` gives length/no. of characters in a string"
   ]
  },
  {
   "cell_type": "code",
   "execution_count": null,
   "metadata": {},
   "outputs": [],
   "source": [
    "# find length of string stored in variable a\n",
    "len(a)"
   ]
  },
  {
   "cell_type": "markdown",
   "metadata": {},
   "source": [
    "## string traversal \n",
    "- it's a common practice to go through every character of a given string\n",
    "- can use both for and while loop to traverse a string"
   ]
  },
  {
   "cell_type": "code",
   "execution_count": null,
   "metadata": {},
   "outputs": [],
   "source": [
    "# example using for loop\n",
    "# traversing string using index\n",
    "for i in range(len(s)):\n",
    "    print(s[i], end=' ')"
   ]
  },
  {
   "cell_type": "code",
   "execution_count": null,
   "metadata": {},
   "outputs": [],
   "source": [
    "# range-based loop traversing each character\n",
    "for c in s:\n",
    "    print(c, end=' ')"
   ]
  },
  {
   "cell_type": "code",
   "execution_count": null,
   "metadata": {},
   "outputs": [],
   "source": [
    "someStr = \"\"\"afAdf@#456'\"\"\""
   ]
  },
  {
   "cell_type": "code",
   "execution_count": null,
   "metadata": {},
   "outputs": [],
   "source": [
    "# example using while loop\n",
    "i = 0\n",
    "while i < len(someStr):\n",
    "    print(someStr[i], end=' ')\n",
    "    i += 1"
   ]
  },
  {
   "cell_type": "markdown",
   "metadata": {},
   "source": [
    "## string comparison\n",
    "- strings can be compared using comparison operators\n",
    "- comparison operators are `==, !=, <=, >=, <, >`\n",
    "- compares lexicographically using ASCII values\n",
    "    - see [ASCII table](http://www.asciitable.com/) for values\n",
    "- `ord('c')` provides ASCII value of the given character\n",
    "- two strings are compared character by character in corresponding positions"
   ]
  },
  {
   "cell_type": "code",
   "execution_count": 4,
   "metadata": {},
   "outputs": [
    {
     "name": "stdout",
     "output_type": "stream",
     "text": [
      "65 97\n"
     ]
    }
   ],
   "source": [
    "# find ascii values of lower a and upper A\n",
    "print(ord('A'), ord('a'))"
   ]
  },
  {
   "cell_type": "code",
   "execution_count": 6,
   "metadata": {},
   "outputs": [
    {
     "name": "stdout",
     "output_type": "stream",
     "text": [
      "False\n"
     ]
    }
   ],
   "source": [
    "# string comparison examples\n",
    "print(\"apple\" <= \"Apple\")"
   ]
  },
  {
   "cell_type": "code",
   "execution_count": 9,
   "metadata": {},
   "outputs": [
    {
     "name": "stdout",
     "output_type": "stream",
     "text": [
      "True\n"
     ]
    }
   ],
   "source": [
    "print(\"apple\" >= \"Ball\")"
   ]
  },
  {
   "cell_type": "code",
   "execution_count": null,
   "metadata": {},
   "outputs": [],
   "source": [
    "# greater and less than returns True if first two corresponding\n",
    "#characters have valid order\n",
    "print(\"apple\" >= \"Apple\")"
   ]
  },
  {
   "cell_type": "code",
   "execution_count": null,
   "metadata": {},
   "outputs": [],
   "source": [
    "# since A is <= a; result is True\n",
    "# eventhough b is not less than B or c\n",
    "print('Abc' <= 'aBC')"
   ]
  },
  {
   "cell_type": "code",
   "execution_count": null,
   "metadata": {},
   "outputs": [],
   "source": [
    "# for equality all characters have to match\n",
    "print(\"apple\" == \"Apple\") # false"
   ]
  },
  {
   "cell_type": "code",
   "execution_count": null,
   "metadata": {},
   "outputs": [],
   "source": [
    "# for inequalify any one pair of unmatched characters will do\n",
    "print('apple' != 'applE')"
   ]
  },
  {
   "cell_type": "markdown",
   "metadata": {},
   "source": [
    "## substring memberships\n",
    "- in and not in operators can be used to check if substring appears in a string\n",
    "- help quickly test for membership"
   ]
  },
  {
   "cell_type": "code",
   "execution_count": null,
   "metadata": {},
   "outputs": [],
   "source": [
    "print(\"p\" in \"apple\")"
   ]
  },
  {
   "cell_type": "code",
   "execution_count": null,
   "metadata": {},
   "outputs": [],
   "source": [
    "print(\"pe\" in \"apple\")"
   ]
  },
  {
   "cell_type": "code",
   "execution_count": null,
   "metadata": {},
   "outputs": [],
   "source": [
    "print(\"aple\" not in \"apple\")"
   ]
  },
  {
   "cell_type": "markdown",
   "metadata": {},
   "source": [
    "## cleaning up strings\n",
    "- often times working with strings involve removing punctuations and unwanted characters\n",
    "- traverse the string by removing any encountered punctations"
   ]
  },
  {
   "cell_type": "code",
   "execution_count": null,
   "metadata": {},
   "outputs": [],
   "source": [
    "# create a new string removing punctuations from the following string\n",
    "ss = '\"Well, I never did!\", said Alice.'\n",
    "print(ss)"
   ]
  },
  {
   "cell_type": "code",
   "execution_count": null,
   "metadata": {},
   "outputs": [],
   "source": [
    "# one solution is to use ASCII value of each character between A..Z and a..z\n",
    "print(ord('a'), ord('z'), ord('A'), ord('Z'))"
   ]
  },
  {
   "cell_type": "code",
   "execution_count": null,
   "metadata": {},
   "outputs": [],
   "source": [
    "newStr = ''\n",
    "for c in ss:\n",
    "    if ord(c) == ord(' '): # keep space\n",
    "        newStr += c\n",
    "    elif ord(c) >= ord('A') and ord(c) <= ord('Z'):\n",
    "        newStr += c\n",
    "    elif ord(c) >= ord('a') and ord(c) <= ord('z'):\n",
    "        newStr += c\n",
    "print(newStr)"
   ]
  },
  {
   "cell_type": "code",
   "execution_count": null,
   "metadata": {},
   "outputs": [],
   "source": [
    "# convert newStr to lowercase for case insensitive operations\n",
    "newStr1 = newStr.lower()\n",
    "print(newStr1)"
   ]
  },
  {
   "cell_type": "code",
   "execution_count": null,
   "metadata": {},
   "outputs": [],
   "source": [
    "# convert sentence into list of tokens/terms/words\n",
    "words = newStr1.split()\n",
    "print(words)"
   ]
  },
  {
   "cell_type": "code",
   "execution_count": null,
   "metadata": {},
   "outputs": [],
   "source": [
    "# traverse through list of words\n",
    "for w in words:\n",
    "    print(w)"
   ]
  },
  {
   "cell_type": "code",
   "execution_count": null,
   "metadata": {},
   "outputs": [],
   "source": [
    "# next solution using string library\n",
    "# string library provides range of different types of characters as data\n",
    "import string\n",
    "help(string)"
   ]
  },
  {
   "cell_type": "code",
   "execution_count": null,
   "metadata": {},
   "outputs": [],
   "source": [
    "# string library has data that can be useful, e.g.\n",
    "string.punctuation"
   ]
  },
  {
   "cell_type": "code",
   "execution_count": null,
   "metadata": {},
   "outputs": [],
   "source": [
    "ss"
   ]
  },
  {
   "cell_type": "code",
   "execution_count": null,
   "metadata": {},
   "outputs": [],
   "source": [
    "newStr = ''\n",
    "for c in ss:\n",
    "    if c in string.ascii_lowercase:\n",
    "        newStr += c\n",
    "    elif c in string.ascii_uppercase:\n",
    "        newStr += c\n",
    "    elif c == ' ':\n",
    "        newStr += ' '\n",
    "        \n",
    "print(newStr)"
   ]
  },
  {
   "cell_type": "code",
   "execution_count": null,
   "metadata": {
    "jupyter": {
     "source_hidden": true
    }
   },
   "outputs": [],
   "source": [
    "# write a function that removes all the punctations except for space\n",
    "# returns new cleaned up string\n",
    "def cleanUp(someStr):\n",
    "    newStr = ''\n",
    "    for c in someStr:\n",
    "        if c.islower():\n",
    "            newStr += c\n",
    "        elif c.isupper():\n",
    "            newStr += c\n",
    "        elif c.isspace():\n",
    "            newStr += c\n",
    "    return newStr"
   ]
  },
  {
   "cell_type": "code",
   "execution_count": null,
   "metadata": {
    "jupyter": {
     "source_hidden": true
    }
   },
   "outputs": [],
   "source": [
    "s = cleanUp(ss)\n",
    "print(s)"
   ]
  },
  {
   "cell_type": "markdown",
   "metadata": {},
   "source": [
    "## string formatting\n",
    "- use format method provided in str object\n",
    "- use `{}` as replacement field\n",
    "- numbers in curly braces are optional; determine the argument to substitute with\n",
    "- each of the replacement fiels can also contain a format specification\n",
    "    - `<`: left alignment, \n",
    "    - `>`: right alignment\n",
    "    - `^`: center, \n",
    "        - e.g. {1:<10}: left align arg #1 in a 10-character width\n",
    "    - type conversion such as f for float (.2f two decimal places), x for hex, etc. can also be used"
   ]
  },
  {
   "cell_type": "code",
   "execution_count": null,
   "metadata": {},
   "outputs": [],
   "source": [
    "name = \"Corin\"\n",
    "age = 25"
   ]
  },
  {
   "cell_type": "code",
   "execution_count": null,
   "metadata": {},
   "outputs": [],
   "source": [
    "s1 = \"His name is {}!\".format(name)\n",
    "print(s1)"
   ]
  },
  {
   "cell_type": "code",
   "execution_count": null,
   "metadata": {},
   "outputs": [],
   "source": [
    "# newer syntax\n",
    "print(f\"His name is {name}!\")"
   ]
  },
  {
   "cell_type": "code",
   "execution_count": null,
   "metadata": {},
   "outputs": [],
   "source": [
    "# note age and name are provided in reverse order\n",
    "print(\"His name is {1} and {0} is {1} years old.\".format(age, name))"
   ]
  },
  {
   "cell_type": "code",
   "execution_count": null,
   "metadata": {},
   "outputs": [],
   "source": [
    "n1 = 4\n",
    "n2 = 5.5\n",
    "s3 = \"{0} x {1} = {2} and {0} ^ {1} = {3:.2f}\".format(n1, n2, n1*n2, n1**n2)\n",
    "print(s3)"
   ]
  },
  {
   "cell_type": "code",
   "execution_count": null,
   "metadata": {},
   "outputs": [],
   "source": [
    "# formating decimal/float values to certian decimal points\n",
    "print(\"Pi to three decimal places is {0:.2f}\".format(3.1415926))"
   ]
  },
  {
   "cell_type": "code",
   "execution_count": null,
   "metadata": {},
   "outputs": [],
   "source": [
    "n1 = \"Paris\"\n",
    "n2 = \"Whitney\"\n",
    "n3 = \"Hilton\"\n",
    "print(\"123456789 123456789 123456789 123456789 123456789 123456789\")\n",
    "print(\"|||{0:<15}|||{1:^15}|||{2:>15}|||Born in {3}|||\"\n",
    "        .format(n1,n2,n3,1981))"
   ]
  },
  {
   "cell_type": "code",
   "execution_count": null,
   "metadata": {},
   "outputs": [],
   "source": [
    "# formatting decimal int to hexadecimal number\n",
    "print(\"The decimal value {0} converts to hex value 0x{0:x}\".format(16))"
   ]
  },
  {
   "cell_type": "code",
   "execution_count": null,
   "metadata": {},
   "outputs": [],
   "source": [
    "# formatting decimal int to binary number\n",
    "print(\"The decimal value {0} converts to binary value 0b{0:b}\".format(8))"
   ]
  },
  {
   "cell_type": "code",
   "execution_count": null,
   "metadata": {},
   "outputs": [],
   "source": [
    "# formatting decimal int to octal number\n",
    "print(\"The decimal value {0} converts to octal value 0o{0:o}\".format(8))"
   ]
  },
  {
   "cell_type": "code",
   "execution_count": null,
   "metadata": {},
   "outputs": [],
   "source": [
    "letter = \"\"\"\n",
    "Dear {0} {2}.\n",
    " {0}, I have an interesting money-making proposition for you!\n",
    " If you deposit $10 million into my bank account, I can\n",
    " double your money ...\n",
    "\"\"\"\n",
    "print(letter.format(\"Paris\", \"Whitney\", \"Hilton\"))\n",
    "print(letter.format(\"Bill\", \"Warren\", \"Jeff\"))"
   ]
  },
  {
   "cell_type": "code",
   "execution_count": null,
   "metadata": {},
   "outputs": [],
   "source": [
    "layout = \"{0:>4}{1:>6}{2:>6}{3:>8}{4:>13}{5:>24}\"\n",
    "print(layout)\n",
    "\n",
    "print(layout.format(\"i\", \"i**2\", \"i**3\", \"i**5\", \"i**10\", \"i**20\"))\n",
    "for i in range(1, 11):\n",
    "    print(layout.format(i, i**2, i**3, i**5, i**10, i**20))"
   ]
  },
  {
   "cell_type": "markdown",
   "metadata": {},
   "source": [
    "## Exercises\n",
    "\n",
    "1. print a neat looking multiplication table like this:\n",
    "<pre>\n",
    "        1   2   3   4   5   6   7   8   9  10  11  12\n",
    "  :--------------------------------------------------\n",
    " 1:     1   2   3   4   5   6   7   8   9  10  11  12\n",
    " 2:     2   4   6   8  10  12  14  16  18  20  22  24\n",
    " 3:     3   6   9  12  15  18  21  24  27  30  33  36\n",
    " 4:     4   8  12  16  20  24  28  32  36  40  44  48\n",
    " 5:     5  10  15  20  25  30  35  40  45  50  55  60\n",
    " 6:     6  12  18  24  30  36  42  48  54  60  66  72\n",
    " 7:     7  14  21  28  35  42  49  56  63  70  77  84\n",
    " 8:     8  16  24  32  40  48  56  64  72  80  88  96\n",
    " 9:     9  18  27  36  45  54  63  72  81  90  99 108\n",
    "10:    10  20  30  40  50  60  70  80  90 100 110 120\n",
    "11:    11  22  33  44  55  66  77  88  99 110 121 132\n",
    "12:    12  24  36  48  60  72  84  96 108 120 132 144\n",
    "</pre>"
   ]
  },
  {
   "cell_type": "markdown",
   "metadata": {},
   "source": [
    "2. Write a program that determines whether a given string is palindrome. Palindrome is a word, phrase, or sequence that reads the same backward as forward, e.g., madam or nurses run or race car."
   ]
  },
  {
   "cell_type": "markdown",
   "metadata": {},
   "source": [
    "2.1 Convert Exercise 2 into a function and write at least two test cases."
   ]
  },
  {
   "cell_type": "markdown",
   "metadata": {},
   "source": [
    "3. Write a program that calculates number of trials required to guess a 3 digit pass code 777 (starting from 000, 001, 002, 003, 004, 005..., 010, etc.) using some brute force technique."
   ]
  },
  {
   "cell_type": "markdown",
   "metadata": {},
   "source": [
    "3.1. Convert Exercise 3 into a function and write at least 3 test cases."
   ]
  },
  {
   "cell_type": "markdown",
   "metadata": {},
   "source": [
    "4. Write a function that calculates the [run-length encoding](https://en.wikipedia.org/wiki/Run-length_encoding) of a given string. Run-length is a lossless data compression in which runs of data are stored as a single data value and count, rather than the original run. Assume that the data contains alphabets (upper and lowercase) only and are case insisitive.\n",
    "E.g.: \n",
    "    - aaaabbc -> 4a2b1c\n",
    "    - Abcd -> 1a1b1c1d"
   ]
  },
  {
   "cell_type": "code",
   "execution_count": null,
   "metadata": {},
   "outputs": [],
   "source": [
    "# 4 solution\n",
    "# Algorithm:\n",
    "# for each character:\n",
    "#   if the current character is same as the previous one\n",
    "#        increment count\n",
    "#   else \n",
    "#        print the count and the previous character\n",
    "#        reset count and previous character\n",
    "#   \n",
    "\n",
    "def run_length_encoding(text):\n",
    "    # check for corner case\n",
    "    if not text: # if text is empty!\n",
    "        return ''\n",
    "    \n",
    "    encoding = ''\n",
    "    # FIXME: implement the algorithm\n",
    "    \n",
    "    \n",
    "    return encoding\n",
    "    "
   ]
  },
  {
   "cell_type": "code",
   "execution_count": null,
   "metadata": {},
   "outputs": [],
   "source": [
    "# unit testing for run_length_encoding\n",
    "assert run_length_encoding('') == ''\n",
    "assert run_length_encoding('aaaabbc') == '4a2b1c'\n",
    "assert run_length_encoding('abcd') == '1a2b3c4d'\n",
    "assert run_length_encoding('zzaazyyyYY') == '2z2a1z5y'\n",
    "# FIXME: Write few more test cases; what corner cases can you think of \n",
    "# that would break run_length_encoding function?"
   ]
  },
  {
   "cell_type": "markdown",
   "metadata": {},
   "source": [
    "5. Write a function that decodes the given run-length encoded compressed data, i.e. decompresses the compressed data to the original string.\n",
    "e.g. \n",
    "    - '' -> ''\n",
    "    - '1a2b3c' -> 'abbccc'\n",
    "    - '10a' -> 'aaaaaaaaaa'"
   ]
  },
  {
   "cell_type": "markdown",
   "metadata": {},
   "source": [
    "## Kattis problems\n",
    "\n",
    "1. Avion - https://open.kattis.com/problems/avion\n",
    "2. Apaxiaans - https://open.kattis.com/problems/apaxiaaans\n",
    "3. Hissing Microphone - https://open.kattis.com/problems/hissingmicrophone\n",
    "4. Reversed Binary Numbers - https://open.kattis.com/problems/reversebinary\n",
    "5. Kemija - https://open.kattis.com/problems/kemija08\n",
    "6. Simon Says - https://open.kattis.com/problems/simonsays\n",
    "7. Simon Says - https://open.kattis.com/problems/simon\n",
    "8. Quite a Problem - https://open.kattis.com/problems/quiteaproblem\n",
    "9. Eligibility - https://open.kattis.com/problems/eligibility\n",
    "10. Charting Progress - https://open.kattis.com/problems/chartingprogress\n",
    "11. Pig Latin - https://open.kattis.com/problems/piglatin\n",
    "12. Battle Simulation - https://open.kattis.com/problems/battlesimulation\n",
    "13. Palindromic Password - https://open.kattis.com/problems/palindromicpassword\n",
    "14. Image Decoding - https://open.kattis.com/problems/imagedecoding\n",
    "15. Viðsnúningur - [https://open.kattis.com/problems/vidsnuningur](https://open.kattis.com/problems/vidsnuningur)"
   ]
  },
  {
   "cell_type": "code",
   "execution_count": null,
   "metadata": {},
   "outputs": [],
   "source": []
  }
 ],
 "metadata": {
  "kernelspec": {
   "display_name": "Python 3 (ipykernel)",
   "language": "python",
   "name": "python3"
  },
  "language_info": {
   "codemirror_mode": {
    "name": "ipython",
    "version": 3
   },
   "file_extension": ".py",
   "mimetype": "text/x-python",
   "name": "python",
   "nbconvert_exporter": "python",
   "pygments_lexer": "ipython3",
   "version": "3.12.3"
  }
 },
 "nbformat": 4,
 "nbformat_minor": 4
}
