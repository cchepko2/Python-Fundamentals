{
 "cells": [
  {
   "cell_type": "markdown",
   "metadata": {},
   "source": [
    "# Iterations\n",
    "<a href=\"https://colab.research.google.com/github/rambasnet/FDSPython-Notebooks/blob/master/Ch05-Iterations.ipynb\" target=\"_parent\"><img src=\"https://colab.research.google.com/assets/colab-badge.svg\" alt=\"Open In Colab\"/></a>\n",
    "\n",
    "- http://openbookproject.net/thinkcs/python/english3e/iteration.html\n",
    "\n",
    "## Topics\n",
    "- what is iteration/loop and why do we need it?\n",
    "- types of loops and their syntaxes\n",
    "- various keywords used with loops\n",
    "- quick applications\n",
    "\n",
    "## Iterations / Loops\n",
    "- iteratations are also called loops\n",
    "- life is full of loops; everyday routines such as going to college, cooking food, slicing vegetables, etc.\n",
    "- loops make computer repeatedly execute some block of code\n",
    "- working with loop has prep work to start it and some condition to end it\n",
    "- two types of loops: **for** and **while**\n",
    "    - some keywords that may appear in loops:\n",
    "    - **for, while, break, continue, in, for ... else, while... else**\n",
    "  \n",
    "### Slice a carrot\n",
    "\n",
    "1. get a cutting board\n",
    "2. get a knife\n",
    "3. get a carrot\n",
    "4. place the carrot on cutting board\n",
    "5. lift knife\n",
    "6. advance carrot\n",
    "7. slice carrot\n",
    "8. if you see only your finger, then quit \n",
    "9. else go to step 4\n",
    "    \n",
    "    \n",
    "- steps 4-8 form a loop!\n",
    "- steps 1-3 preparation\n",
    "- step 8 checks condition to end the loop\n",
    "- steps 4-7 are tasks that need to be iterated \n"
   ]
  },
  {
   "cell_type": "markdown",
   "metadata": {},
   "source": [
    "## for loop\n",
    "- works with a range of values\n",
    "- syntax \n",
    "```python\n",
    "for val in rangeofValues:\n",
    "    # loop body\n",
    "```\n",
    "- useful when you know exactly how many times the loop should be executed\n",
    "- commonly used with built-in **range( )** function\n",
    "- typically, variables **i**, **j**, etc. are used as loop counters"
   ]
  },
  {
   "cell_type": "code",
   "execution_count": null,
   "metadata": {},
   "outputs": [],
   "source": [
    "# let's learn about range()\n",
    "help(range)"
   ]
  },
  {
   "cell_type": "code",
   "execution_count": null,
   "metadata": {},
   "outputs": [],
   "source": [
    "print(range(10))"
   ]
  },
  {
   "cell_type": "code",
   "execution_count": null,
   "metadata": {},
   "outputs": [],
   "source": [
    "# convert range into list of values\n",
    "# learn about list in later chapter\n",
    "list(range(10))"
   ]
  },
  {
   "cell_type": "code",
   "execution_count": null,
   "metadata": {},
   "outputs": [],
   "source": [
    "list(range(1, 11))"
   ]
  },
  {
   "cell_type": "code",
   "execution_count": null,
   "metadata": {},
   "outputs": [],
   "source": [
    "# let's provide a step of 2\n",
    "list(range(1, 11, 2))"
   ]
  },
  {
   "cell_type": "code",
   "execution_count": null,
   "metadata": {},
   "outputs": [],
   "source": [
    "# print hello world some number of times!\n",
    "for i in range(0, 10, 2):\n",
    "    print(i, 'hello world')"
   ]
  },
  {
   "cell_type": "code",
   "execution_count": null,
   "metadata": {},
   "outputs": [],
   "source": [
    "for i in range(10, 0, -1):\n",
    "    print(f\"{i} hello world\")"
   ]
  },
  {
   "cell_type": "markdown",
   "metadata": {},
   "source": [
    "### [Visualize with PythonTutor.com](http://pythontutor.com/visualize.html#code=for%20i%20in%20range%281,%205%29%3A%0A%20%20%20%20print%28i,%20'hello%20world'%29&cumulative=false&curInstr=0&heapPrimitives=false&mode=display&origin=opt-frontend.js&py=3&rawInputLstJSON=%5B%5D&textReferences=false)"
   ]
  },
  {
   "cell_type": "code",
   "execution_count": null,
   "metadata": {},
   "outputs": [],
   "source": [
    "for num in range(20):\n",
    "    print(num)\n",
    "\n",
    "    \n",
    "print('done')"
   ]
  },
  {
   "cell_type": "markdown",
   "metadata": {},
   "source": [
    "### continue loop\n",
    "- **continue** statement skips the rest of the current loop when it is executed"
   ]
  },
  {
   "cell_type": "code",
   "execution_count": null,
   "metadata": {},
   "outputs": [],
   "source": [
    "# for loop example - continue\n",
    "for i in range(1, 11): # range ... 1...10\n",
    "    if i%2 == 0:\n",
    "        continue\n",
    "    print(i)"
   ]
  },
  {
   "cell_type": "markdown",
   "metadata": {
    "jp-MarkdownHeadingCollapsed": true
   },
   "source": [
    "### [Visualize with PythonTutor.com](http://pythontutor.com/visualize.html#code=%23%20for%20loop%20example%20-%20continue%0Afor%20i%20in%20range%281,%2011%29%3A%20%23%20range%20...%201...10%0A%20%20%20%20if%20i%252%20%3D%3D%200%3A%0A%20%20%20%20%20%20%20%20continue%0A%20%20%20%20print%28i%29&cumulative=false&curInstr=0&heapPrimitives=false&mode=display&origin=opt-frontend.js&py=3&rawInputLstJSON=%5B%5D&textReferences=false)\n",
    "\n",
    "### break loop\n",
    "- **break** statement is used to break a loop\n",
    "- it breaks or exits the loop immidiately\n",
    "- rest of the current loop and the rest of the loop will not be executed!"
   ]
  },
  {
   "cell_type": "code",
   "execution_count": null,
   "metadata": {},
   "outputs": [],
   "source": [
    "# for loop example - break\n",
    "for i in range(10):\n",
    "    if i == 10:\n",
    "        break\n",
    "    print(i)\n",
    "\n",
    "print('done')"
   ]
  },
  {
   "cell_type": "markdown",
   "metadata": {},
   "source": [
    "## for ... else\n",
    "- you can write an optional else statement with for loop\n",
    "- the else clause executes when the loop completes normally\n",
    "    - this means that the loop did not encounter any **break** statement"
   ]
  },
  {
   "cell_type": "code",
   "execution_count": null,
   "metadata": {},
   "outputs": [],
   "source": [
    "for i in range(5):\n",
    "    if i == 6:\n",
    "        break\n",
    "    print(i)\n",
    "else:\n",
    "    print('end!')"
   ]
  },
  {
   "cell_type": "code",
   "execution_count": null,
   "metadata": {},
   "outputs": [],
   "source": [
    "for i in range(5):\n",
    "    if i == 2:\n",
    "        continue\n",
    "    print(i)\n",
    "else:\n",
    "    print('end!')"
   ]
  },
  {
   "cell_type": "code",
   "execution_count": null,
   "metadata": {},
   "outputs": [],
   "source": [
    "# for... else example\n",
    "# write a program to test whether a given number is prime\n",
    "n = 97\n",
    "#isPrime = True\n",
    "for i in range(2, n//2+1):\n",
    "    if n%i == 0:\n",
    "        #isPrime = False\n",
    "        print(n, ' is not prime')\n",
    "        break\n",
    "else:\n",
    "    print(n, 'is prime')"
   ]
  },
  {
   "cell_type": "markdown",
   "metadata": {},
   "source": [
    "## while loop \n",
    "- while loop is used when you're not sure the exact number of times the loop should be executed\n",
    "    - loop may execute 0 or many times based on the contidion!\n",
    "    \n",
    "- syntax:\n",
    "\n",
    "``` python\n",
    "while <condition>:\n",
    "    # loop body\n",
    "```"
   ]
  },
  {
   "cell_type": "code",
   "execution_count": null,
   "metadata": {},
   "outputs": [],
   "source": [
    "# infinite loop - will never stop; uncomment and run to see for yourself!\n",
    "# Interrupt Kernel on Jupyter Notebook; enter Ctrl+C on Terminal to stop infinite loop\n",
    "#while True:\n",
    "#    print('hello')"
   ]
  },
  {
   "cell_type": "code",
   "execution_count": null,
   "metadata": {},
   "outputs": [],
   "source": [
    "i = 1\n",
    "while i <= 5:\n",
    "    print(i, 'Hello World')\n",
    "    i += 1\n",
    "# same as\n",
    "for i in range(1, 6):\n",
    "    print(i, 'Hello World')"
   ]
  },
  {
   "cell_type": "markdown",
   "metadata": {},
   "source": [
    "### [Visualize with PythonTutor.com](http://pythontutor.com/visualize.html#code=i%20%3D%201%0Awhile%20i%20%3C%3D%205%3A%0A%20%20%20%20print%28i,%20'Hello%20World'%29%0A%20%20%20%20i%20%2B%3D%201&cumulative=false&curInstr=0&heapPrimitives=false&mode=display&origin=opt-frontend.js&py=3&rawInputLstJSON=%5B%5D&textReferences=false)"
   ]
  },
  {
   "cell_type": "markdown",
   "metadata": {},
   "source": [
    "### While loop applications\n",
    "- loops have many applications in coding\n",
    "    - it's a foundational block!\n",
    "\n",
    "#### input validation\n",
    "- data types and values need to be often validated for correct results\n",
    "- while loop can be used for input validation"
   ]
  },
  {
   "cell_type": "code",
   "execution_count": null,
   "metadata": {},
   "outputs": [],
   "source": [
    "# not sure when the user will get this correct...\n",
    "# at least 1 try; could be more!!\n",
    "while True:\n",
    "    number = input('Enter a whole number: ')\n",
    "    if not number.isdigit():\n",
    "        print('Not a valid number!')\n",
    "        continue\n",
    "    number = int(number)\n",
    "    break"
   ]
  },
  {
   "cell_type": "code",
   "execution_count": null,
   "metadata": {},
   "outputs": [],
   "source": [
    "print(f'You entered {number}')"
   ]
  },
  {
   "cell_type": "markdown",
   "metadata": {
    "jp-MarkdownHeadingCollapsed": true
   },
   "source": [
    "#### countdown\n",
    "- run countdown as a script\n",
    "- uses `time.sleep(sec)` to sleep for a second\n",
    "- `os.system('clear')` clears the console\n",
    "- `os.name` stores the type of operating system\n",
    "    - types of os are: `'posix', 'nt', 'mac', 'os2', 'ce', 'java', 'riscos'`"
   ]
  },
  {
   "cell_type": "code",
   "execution_count": null,
   "metadata": {},
   "outputs": [],
   "source": [
    "# while loop - countdown\n",
    "import time\n",
    "import os\n",
    "\n",
    "def clearScreen():\n",
    "    if os.name == 'nt':\n",
    "        os.system('cls')\n",
    "    else:\n",
    "        os.system('clear')\n",
    "\n",
    "i = 10\n",
    "while i >= 1:\n",
    "    print(i)\n",
    "    time.sleep(1) # sleep for 1 second\n",
    "    clearScreen()\n",
    "    i -= 1\n",
    "    \n",
    "#time.sleep(1)\n",
    "print('Hapy new year!')"
   ]
  },
  {
   "cell_type": "markdown",
   "metadata": {},
   "source": [
    "## while... else\n",
    "- optional **else** clause executes when the loop executes normally\n",
    "    - meaning the loop didn't encounter any **break** statement"
   ]
  },
  {
   "cell_type": "code",
   "execution_count": null,
   "metadata": {},
   "outputs": [],
   "source": [
    "again = 0\n",
    "while again < 1_000_000_000:\n",
    "    print('Hello')\n",
    "    if(again > 10):\n",
    "        break\n",
    "        \n",
    "    again = int(input())\n",
    "    again += 1\n",
    "else:\n",
    "    print(\"Look loop did encounter break\")"
   ]
  },
  {
   "cell_type": "code",
   "execution_count": null,
   "metadata": {},
   "outputs": [],
   "source": [
    "count = 1\n",
    "while count < 5:\n",
    "    print(count)\n",
    "    count += 1\n",
    "else:\n",
    "    print(\"Look loop didn't encounter break\")"
   ]
  },
  {
   "cell_type": "markdown",
   "metadata": {},
   "source": [
    "## Exercises\n",
    "\n",
    "Exercise 1. \n",
    "Write a program to count the number of digits in a positive integer"
   ]
  },
  {
   "cell_type": "code",
   "execution_count": 2,
   "metadata": {},
   "outputs": [
    {
     "name": "stdout",
     "output_type": "stream",
     "text": [
      "15\n"
     ]
    }
   ],
   "source": [
    "n = 123498236597256\n",
    "print(len(str(n)))"
   ]
  },
  {
   "cell_type": "markdown",
   "metadata": {},
   "source": [
    "Exercise 1.1. Convert Exercise 1 to a function and write at least two test cases."
   ]
  },
  {
   "cell_type": "code",
   "execution_count": 3,
   "metadata": {},
   "outputs": [],
   "source": [
    "def countDigits(number: int):\n",
    "    \"\"\"\n",
    "    given a positive number the function return number of digits\n",
    "    in the number\n",
    "    \"\"\"\n",
    "    return len(str(number))"
   ]
  },
  {
   "cell_type": "code",
   "execution_count": 4,
   "metadata": {},
   "outputs": [],
   "source": [
    "# test cases\n",
    "def test_countDigits():\n",
    "    assert countDigits(10) == 2\n",
    "    assert countDigits(19923) == 5\n",
    "    assert countDigits(34324324327890) == 14\n",
    "    print('all test cases passed!')"
   ]
  },
  {
   "cell_type": "markdown",
   "metadata": {},
   "source": [
    "Exercise 2. Write a program to count the number of digits 0 or 5 in a positive ingeger."
   ]
  },
  {
   "cell_type": "code",
   "execution_count": null,
   "metadata": {},
   "outputs": [],
   "source": [
    "# solution 1\n",
    "# converst positive integer into string and parse one character at a time\n",
    "n = 12345505\n",
    "n = str(n)\n",
    "count0 = 0\n",
    "count5 = 0\n",
    "for c in n:\n",
    "    if c == '0':\n",
    "        count0 += 1\n",
    "    elif c == '5':\n",
    "        count5 += 1\n",
    "print('There are {} zero(s) and {} five(s) digits in {}.'.format(count0, count5, n))"
   ]
  },
  {
   "cell_type": "code",
   "execution_count": null,
   "metadata": {},
   "outputs": [],
   "source": [
    "# solution 2\n",
    "# repeated divide the positive integer by 10 counting the value of remainder until the number is greater than 0\n",
    "n = 12345505\n",
    "savedN = n\n",
    "count0 = 0\n",
    "count5 = 0\n",
    "while n > 0:\n",
    "    n, rem = divmod(n, 10)\n",
    "    if rem == 0:\n",
    "        count0 += 1\n",
    "    elif rem == 5:\n",
    "        count5 += 1\n",
    "    \n",
    "print('There are {} zero(s) and {} five(s) digits in {}.'.format(count0, count5, savedN))"
   ]
  },
  {
   "cell_type": "markdown",
   "metadata": {},
   "source": [
    "Exercise 2.1. Convert Exercise 2 to a function and write at least 2 test cases"
   ]
  },
  {
   "cell_type": "markdown",
   "metadata": {},
   "source": [
    "Exercise 3. FizzBuzz program - Write a program that prints numbers between 1 and 100 with the following requirements. If the number is divisible by 3, print 'Fizz'. If the number is divisible by 5, print 'Buzz'. If the number is divisible by both 3 and 5, print 'FizzBuzz'."
   ]
  },
  {
   "cell_type": "markdown",
   "metadata": {},
   "source": [
    "Exercise 3.1. Convert Exercise 3 into a function and write at least 2 three test cases."
   ]
  },
  {
   "cell_type": "markdown",
   "metadata": {},
   "source": [
    "Exercise 4. What are the output(s) of the following code snippets?"
   ]
  },
  {
   "cell_type": "code",
   "execution_count": null,
   "metadata": {},
   "outputs": [],
   "source": [
    "a = 11\n",
    "while a < 10:\n",
    "    print(a)\n",
    "    a += 1\n",
    "    #break\n",
    "else:\n",
    "    print('Done')"
   ]
  },
  {
   "cell_type": "code",
   "execution_count": null,
   "metadata": {},
   "outputs": [],
   "source": [
    "for i in range(1, 10):\n",
    "    if i == 5:\n",
    "        break\n",
    "    print(i)\n",
    "else:\n",
    "    print('done')"
   ]
  },
  {
   "cell_type": "code",
   "execution_count": null,
   "metadata": {},
   "outputs": [],
   "source": [
    "for c in 'hello':\n",
    "    print(c, end=' ')"
   ]
  },
  {
   "cell_type": "markdown",
   "metadata": {},
   "source": [
    "# Kattis problems\n",
    "- almost every problem involves some form of loops!\n",
    "- problems you may be able to solve from concepts learned so far:\n",
    "\n",
    "1. Oddities - https://open.kattis.com/problems/oddities\n",
    "2. Odd Echo - https://open.kattis.com/problems/oddecho\n",
    "3. FizzBuzz - https://open.kattis.com/problems/fizzbuzz\n",
    "4. Quality-Adjust Life-Year - https://open.kattis.com/problems/qaly\n",
    "4. Jumbo Javelin - https://open.kattis.com/problems/jumbojavelin\n",
    "5. Rating Problems - https://open.kattis.com/problems/ratingproblems"
   ]
  },
  {
   "cell_type": "code",
   "execution_count": null,
   "metadata": {},
   "outputs": [],
   "source": []
  }
 ],
 "metadata": {
  "kernelspec": {
   "display_name": "Python 3 (ipykernel)",
   "language": "python",
   "name": "python3"
  },
  "language_info": {
   "codemirror_mode": {
    "name": "ipython",
    "version": 3
   },
   "file_extension": ".py",
   "mimetype": "text/x-python",
   "name": "python",
   "nbconvert_exporter": "python",
   "pygments_lexer": "ipython3",
   "version": "3.12.3"
  }
 },
 "nbformat": 4,
 "nbformat_minor": 4
}
